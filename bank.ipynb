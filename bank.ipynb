{
 "cells": [
  {
   "cell_type": "code",
   "execution_count": 24,
   "id": "7fbfd0a9",
   "metadata": {},
   "outputs": [],
   "source": [
    "amount_1 = int(65) # Creating a variable for amount1 of 65c\n",
    "amount_2 = int(180) # Creating a variable for amount2 of 180c"
   ]
  },
  {
   "cell_type": "code",
   "execution_count": 25,
   "id": "b29f2425",
   "metadata": {},
   "outputs": [],
   "source": [
    "cent_sum = amount_1 + amount_2 # Creating a variable called cent_sum that adds amount_1 & amount_2 variables"
   ]
  },
  {
   "cell_type": "code",
   "execution_count": 26,
   "id": "1cfca9e6",
   "metadata": {},
   "outputs": [
    {
     "name": "stdout",
     "output_type": "stream",
     "text": [
      "245\n"
     ]
    }
   ],
   "source": [
    "print(cent_sum) #printing the variable that sums the amount_1 & amount_2 variables"
   ]
  },
  {
   "cell_type": "code",
   "execution_count": 27,
   "id": "cb378498",
   "metadata": {},
   "outputs": [
    {
     "name": "stdout",
     "output_type": "stream",
     "text": [
      "2.45\n"
     ]
    }
   ],
   "source": [
    "euro_sum = (cent_sum/100) # Creating a variable called euro_sum that divides cent_sum variable by 100 to return € value\n",
    "print(euro_sum) # Printing the euro_sum variable"
   ]
  },
  {
   "cell_type": "code",
   "execution_count": 28,
   "id": "d84c799e",
   "metadata": {},
   "outputs": [
    {
     "name": "stdout",
     "output_type": "stream",
     "text": [
      "2.45\n"
     ]
    }
   ],
   "source": [
    "rounded_sum = round(euro_sum,2) # Creating a variable to round the euro_sum to 2 decimal places\n",
    "print(rounded_sum) # Printing the rounded_sum variable"
   ]
  },
  {
   "cell_type": "code",
   "execution_count": 30,
   "id": "fa6e8ec5",
   "metadata": {},
   "outputs": [
    {
     "name": "stdout",
     "output_type": "stream",
     "text": [
      "The sum of these is €2.45.\n"
     ]
    }
   ],
   "source": [
    "print(f'The sum of these is €{rounded_sum}.')"
   ]
  },
  {
   "cell_type": "code",
   "execution_count": 31,
   "id": "8909f303",
   "metadata": {},
   "outputs": [
    {
     "name": "stdout",
     "output_type": "stream",
     "text": [
      "C:\\Users\\Barry\n"
     ]
    }
   ],
   "source": [
    "cd"
   ]
  },
  {
   "cell_type": "code",
   "execution_count": null,
   "id": "29761196",
   "metadata": {},
   "outputs": [],
   "source": []
  }
 ],
 "metadata": {
  "kernelspec": {
   "display_name": "Python 3 (ipykernel)",
   "language": "python",
   "name": "python3"
  },
  "language_info": {
   "codemirror_mode": {
    "name": "ipython",
    "version": 3
   },
   "file_extension": ".py",
   "mimetype": "text/x-python",
   "name": "python",
   "nbconvert_exporter": "python",
   "pygments_lexer": "ipython3",
   "version": "3.11.5"
  }
 },
 "nbformat": 4,
 "nbformat_minor": 5
}
