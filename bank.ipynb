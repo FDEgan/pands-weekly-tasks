{
 "cells": [
  {
   "cell_type": "code",
   "execution_count": 13,
   "id": "7fbfd0a9",
   "metadata": {},
   "outputs": [],
   "source": [
    "amount_1 = user_input = int(input(\"Enter an amount: \")) # Prompting user to enter an amount)\n",
    "amount_2 = user_input = int(input(\"Enter an amount: \")) # Prompting user to enter an amount)"
   ]
  },
  {
   "cell_type": "code",
   "execution_count": 14,
   "id": "b29f2425",
   "metadata": {},
   "outputs": [],
   "source": [
    "cent_sum = amount_1 + amount_2 # Creating a variable called cent_sum that adds amount_1 & amount_2 variables"
   ]
  },
  {
   "cell_type": "code",
   "execution_count": 15,
   "id": "1cfca9e6",
   "metadata": {},
   "outputs": [
    {
     "name": "stdout",
     "output_type": "stream",
     "text": [
      "335567\n"
     ]
    }
   ],
   "source": [
    "print(cent_sum) # Printing the variable that sums the amount_1 & amount_2 variables"
   ]
  },
  {
   "cell_type": "code",
   "execution_count": 16,
   "id": "cb378498",
   "metadata": {},
   "outputs": [
    {
     "name": "stdout",
     "output_type": "stream",
     "text": [
      "3355.67\n"
     ]
    }
   ],
   "source": [
    "euro_sum = (cent_sum/100) # Creating a variable called euro_sum that divides cent_sum variable by 100 to return € value\n",
    "print(euro_sum) # Printing the euro_sum variable"
   ]
  },
  {
   "cell_type": "code",
   "execution_count": 17,
   "id": "d84c799e",
   "metadata": {},
   "outputs": [
    {
     "name": "stdout",
     "output_type": "stream",
     "text": [
      "3355.67\n"
     ]
    }
   ],
   "source": [
    "rounded_sum = round(euro_sum,2) # Creating a variable to round the euro_sum to 2 decimal places\n",
    "print(rounded_sum) # Printing the rounded_sum variable"
   ]
  },
  {
   "cell_type": "code",
   "execution_count": 18,
   "id": "fa6e8ec5",
   "metadata": {},
   "outputs": [
    {
     "name": "stdout",
     "output_type": "stream",
     "text": [
      "The sum of these is €3355.67.\n"
     ]
    }
   ],
   "source": [
    "print(f'The sum of these is €{rounded_sum}.')"
   ]
  }
 ],
 "metadata": {
  "kernelspec": {
   "display_name": "Python 3 (ipykernel)",
   "language": "python",
   "name": "python3"
  },
  "language_info": {
   "codemirror_mode": {
    "name": "ipython",
    "version": 3
   },
   "file_extension": ".py",
   "mimetype": "text/x-python",
   "name": "python",
   "nbconvert_exporter": "python",
   "pygments_lexer": "ipython3",
   "version": "3.11.5"
  }
 },
 "nbformat": 4,
 "nbformat_minor": 5
}
