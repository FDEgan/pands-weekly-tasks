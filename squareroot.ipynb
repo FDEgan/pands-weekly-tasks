{
 "cells": [
  {
   "cell_type": "markdown",
   "metadata": {},
   "source": [
    "# Weekly Task 6 - ** Square Root **"
   ]
  },
  {
   "cell_type": "markdown",
   "metadata": {},
   "source": [
    "*The Below is the formula I will use for this weeks task:*"
   ]
  },
  {
   "cell_type": "markdown",
   "metadata": {},
   "source": [
    "![Newtons Square Root Formula](https://d9l95gvbz3thr.cloudfront.net/assets/2019-07-10-coding-challenge-implement-a-square-root-function/newton-0ee5d225b571a2e2c1845c9000a931b516c71ac2c73e87d2d682e75578bdc922dddaa6537bc9f47588f26b0cbce1626f8e341175126b9a0b8dbe15540625e799.png)"
   ]
  },
  {
   "cell_type": "code",
   "execution_count": 20,
   "metadata": {},
   "outputs": [],
   "source": [
    "def newton_square(number, first_estimate): # Creating function to take in number that we want the square root of and the first estimate we have\n",
    "    estimate = first_estimate # Creating an estimate variable which assigns the initial estimate as our estimate\n",
    "    new_estimate = 0.5 * (estimate + number / estimate) # Creating a new variable that is equal to the value returned from Newton Square Root formula \n",
    "    while new_estimate != estimate: # While the new estimate is not equal to our last/ original estimate persist with the code in the loop\n",
    "        estimate = new_estimate # Assign/ Reassign our estimate as the new estimate\n",
    "        new_estimate = 0.5 * (estimate + number / estimate) # Assign/ Reassign new estimate as the value returned using the Newton Square Root formula\n",
    "\n",
    "    return round(new_estimate,1) # Once the new estimate is equal to our estimate i.e. Our new estimate is equal to the value returned using the Newton Square Root formula then return the rounded new estimate\n"
   ]
  },
  {
   "cell_type": "code",
   "execution_count": 27,
   "metadata": {},
   "outputs": [
    {
     "name": "stdout",
     "output_type": "stream",
     "text": [
      "Square root is approx: 3.8\n"
     ]
    }
   ],
   "source": [
    "result = newton_square(14.5,6) # Printing the result\n",
    "print(\"Square root is approx:\", result) # Inputting the result into a string to print out"
   ]
  },
  {
   "cell_type": "markdown",
   "metadata": {},
   "source": [
    "## References\n",
    "***\n",
    "1. https://www.youtube.com/watch?v=FpOEx6zFf1o\n",
    "1. https://www.youtube.com/watch?v=xdlIFw5EM4w"
   ]
  },
  {
   "cell_type": "markdown",
   "metadata": {},
   "source": [
    "I used the first video to learn about how the equation worked. The 2nd video was used to help guide how the calculations should work in my function.\n"
   ]
  }
 ],
 "metadata": {
  "kernelspec": {
   "display_name": "base",
   "language": "python",
   "name": "python3"
  },
  "language_info": {
   "codemirror_mode": {
    "name": "ipython",
    "version": 3
   },
   "file_extension": ".py",
   "mimetype": "text/x-python",
   "name": "python",
   "nbconvert_exporter": "python",
   "pygments_lexer": "ipython3",
   "version": "3.11.5"
  }
 },
 "nbformat": 4,
 "nbformat_minor": 2
}
