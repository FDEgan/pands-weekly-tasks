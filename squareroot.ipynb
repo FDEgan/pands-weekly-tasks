{
 "cells": [
  {
   "cell_type": "markdown",
   "metadata": {},
   "source": [
    "# Weekly Task 6 - ** Square Root **"
   ]
  },
  {
   "cell_type": "markdown",
   "metadata": {},
   "source": [
    "*The Below is the formula I will use for this weeks task:*"
   ]
  },
  {
   "cell_type": "markdown",
   "metadata": {},
   "source": [
    "![Newtons Square Root Formula](https://d9l95gvbz3thr.cloudfront.net/assets/2019-07-10-coding-challenge-implement-a-square-root-function/newton-0ee5d225b571a2e2c1845c9000a931b516c71ac2c73e87d2d682e75578bdc922dddaa6537bc9f47588f26b0cbce1626f8e341175126b9a0b8dbe15540625e799.png)"
   ]
  },
  {
   "cell_type": "code",
   "execution_count": 2,
   "metadata": {},
   "outputs": [
    {
     "name": "stdout",
     "output_type": "stream",
     "text": [
      "Square root of 14.5 is approximately 3.8\n"
     ]
    }
   ],
   "source": [
    "def square_root(value, init_est): # Creating function to take in number that we want the square root of and the first estimate we have\n",
    "    est = init_est # Creating an estimate variable which assigns the initial estimate as our estimate\n",
    "    updated_estimate = 0.5 * (est + value / est) # Creating a new variable that is equal to the value returned from Newton Square Root formula \n",
    "    while updated_estimate != est: # While the new estimate is not equal to our last/ original estimate persist with the code in the loop\n",
    "        est = updated_estimate # Assign/ Reassign our estimate as the new estimate\n",
    "        updated_estimate =  (est + value / est) * 0.5 # Assign/ Reassign new estimate as the value returned using the Newton Square Root formula\n",
    "\n",
    "    return round(updated_estimate,1) # Once the new estimate is equal to our estimate i.e. Our new estimate is equal to the value returned using the Newton Square Root formula then return the rounded new estimatez\n",
    "\n",
    "value = float(input(\"Enter the number you require the square root of: \")) # Prompting User to input Value\n",
    "init_est = float(input(\"Enter an estimation of square root of the number here: \")) # Prompting User to input Value\n",
    "print(f\"Square root of {value} is approximately {square_root(value, init_est)}\") # Printing the statement out\n"
   ]
  },
  {
   "cell_type": "markdown",
   "metadata": {},
   "source": [
    "## References\n",
    "***\n",
    "1. **Exploring how the Newtons Square Root Equation Works:** https://www.youtube.com/watch?v=FpOEx6zFf1o\n",
    "2. **For Guiding how the Python Program Should Work i.e. The flow of the Calculation:** https://www.youtube.com/watch?v=xdlIFw5EM4w\n",
    "3. **For Guiding how the calculation could work:** https://www.geeksforgeeks.org/find-root-of-a-number-using-newtons-method/\n",
    "4. **For adding in the function output to a print statement:** https://blog.finxter.com/python-return-string-from-function/\n",
    "5. **For adding in the function output to a print statement (2):** https://realpython.com/defining-your-own-python-function/"
   ]
  }
 ],
 "metadata": {
  "kernelspec": {
   "display_name": "base",
   "language": "python",
   "name": "python3"
  },
  "language_info": {
   "codemirror_mode": {
    "name": "ipython",
    "version": 3
   },
   "file_extension": ".py",
   "mimetype": "text/x-python",
   "name": "python",
   "nbconvert_exporter": "python",
   "pygments_lexer": "ipython3",
   "version": "3.11.5"
  }
 },
 "nbformat": 4,
 "nbformat_minor": 2
}
